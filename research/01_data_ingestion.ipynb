{
 "cells": [
  {
   "cell_type": "code",
   "execution_count": 1,
   "metadata": {},
   "outputs": [],
   "source": [
    "import os"
   ]
  },
  {
   "cell_type": "code",
   "execution_count": 2,
   "metadata": {},
   "outputs": [
    {
     "data": {
      "text/plain": [
       "'c:\\\\Users\\\\arbas\\\\Documents\\\\Projects\\\\Machine-Learning\\\\EndToEnd_Deployed\\\\Project 4\\\\research'"
      ]
     },
     "execution_count": 2,
     "metadata": {},
     "output_type": "execute_result"
    }
   ],
   "source": [
    "%pwd"
   ]
  },
  {
   "cell_type": "code",
   "execution_count": 3,
   "metadata": {},
   "outputs": [],
   "source": [
    "os.chdir('../')"
   ]
  },
  {
   "cell_type": "code",
   "execution_count": 15,
   "metadata": {},
   "outputs": [],
   "source": [
    "from dataclasses import dataclass\n",
    "from pathlib import Path\n",
    "\n",
    "@dataclass(frozen=True)\n",
    "class Data_Ingestion_Config:\n",
    "    root_dir: Path\n",
    "    source_URL: str\n",
    "    local_data_file: Path\n",
    "    unzip_dir: Path"
   ]
  },
  {
   "cell_type": "code",
   "execution_count": 16,
   "metadata": {},
   "outputs": [],
   "source": [
    "from src.Project4.constants import *\n",
    "from src.Project4.utils.common import read_yaml,create_directories"
   ]
  },
  {
   "cell_type": "code",
   "execution_count": 17,
   "metadata": {},
   "outputs": [],
   "source": [
    "class Configuration_Manager:\n",
    "    def __init__(self,config_file_path = CONFIG_FILE_PATH,params_file_path = PARAMS_FILE_PATH,schema_file_path = SCHEMA_FILE_PATH):\n",
    "        self.config = read_yaml(config_file_path)\n",
    "        self.params = read_yaml(params_file_path)\n",
    "        self.schema = read_yaml(schema_file_path)\n",
    "        create_directories([self.config.artifacts_root])\n",
    "    \n",
    "    def get_data_ingestion_config(self)->Data_Ingestion_Config:\n",
    "        config = self.config.data_ingestion\n",
    "        create_directories([config.root_dir])\n",
    "        data_ingestion_config = Data_Ingestion_Config(\n",
    "            root_dir=config.root_dir,\n",
    "            source_URL=config.source_URL,\n",
    "            local_data_file=config.local_data_file,\n",
    "            unzip_dir=config.unzip_dir\n",
    "        )\n",
    "        return data_ingestion_config"
   ]
  },
  {
   "cell_type": "code",
   "execution_count": 18,
   "metadata": {},
   "outputs": [],
   "source": [
    "import os\n",
    "import urllib.request as request\n",
    "import zipfile\n",
    "from src.Project4.utils.common import get_size, logger"
   ]
  },
  {
   "cell_type": "code",
   "execution_count": 19,
   "metadata": {},
   "outputs": [],
   "source": [
    "class Data_Ingestion:\n",
    "    def __init__(self,config: Data_Ingestion_Config):\n",
    "        self.config = config\n",
    "        \n",
    "    def download_data(self):\n",
    "        if not os.path.exists(self.config.local_data_file):\n",
    "            filename,header = request.urlretrieve(url=self.config.source_URL,filename=self.config.local_data_file)\n",
    "            logger.info(f'Successfully downloaded data {filename} with following info: {header} at: {self.config.local_data_file}')\n",
    "        else:\n",
    "            logger.info(f'Data already exists of size {get_size(Path(self.config.local_data_file))}')\n",
    "    \n",
    "    def extract_zip_data(self):\n",
    "        ''' Extracts the zip file\n",
    "        '''\n",
    "        unzip_path = self.config.unzip_dir\n",
    "        os.makedirs(unzip_path,exist_ok=True)\n",
    "        with zipfile.ZipFile(self.config.local_data_file,'r') as zip_ref:\n",
    "            zip_ref.extractall(unzip_path)"
   ]
  },
  {
   "cell_type": "code",
   "execution_count": 21,
   "metadata": {},
   "outputs": [
    {
     "name": "stdout",
     "output_type": "stream",
     "text": [
      "2024-02-24 11:13:35,538 - src_logger - INFO - Yaml file:config\\config.yaml loaded successfully\n",
      "2024-02-24 11:13:35,542 - src_logger - INFO - Yaml file:params.yaml loaded successfully\n",
      "2024-02-24 11:13:35,544 - src_logger - INFO - Yaml file:schema.yaml loaded successfully\n",
      "2024-02-24 11:13:35,547 - src_logger - INFO - Created directory at: artifacts\n",
      "2024-02-24 11:13:35,549 - src_logger - INFO - Created directory at: artifacts/data_ingestion\n",
      "2024-02-24 11:13:37,194 - src_logger - INFO - Successfully downloaded data artifacts/data_ingestion/data.zip with following info: Connection: close\n",
      "Content-Length: 3430\n",
      "Cache-Control: max-age=300\n",
      "Content-Security-Policy: default-src 'none'; style-src 'unsafe-inline'; sandbox\n",
      "Content-Type: application/zip\n",
      "ETag: \"4c665d358601dc38a7863a4318d27efca4fc56a53f28d43470b8ef8b60777e1a\"\n",
      "Strict-Transport-Security: max-age=31536000\n",
      "X-Content-Type-Options: nosniff\n",
      "X-Frame-Options: deny\n",
      "X-XSS-Protection: 1; mode=block\n",
      "X-GitHub-Request-Id: F51E:25E141:4869C:6DDB9:65D98207\n",
      "Accept-Ranges: bytes\n",
      "Date: Sat, 24 Feb 2024 05:43:36 GMT\n",
      "Via: 1.1 varnish\n",
      "X-Served-By: cache-maa10241-MAA\n",
      "X-Cache: MISS\n",
      "X-Cache-Hits: 0\n",
      "X-Timer: S1708753416.906098,VS0,VE270\n",
      "Vary: Authorization,Accept-Encoding,Origin\n",
      "Access-Control-Allow-Origin: *\n",
      "Cross-Origin-Resource-Policy: cross-origin\n",
      "X-Fastly-Request-ID: a9e2bce618541df7f4666548aeb572f9ddb47192\n",
      "Expires: Sat, 24 Feb 2024 05:48:36 GMT\n",
      "Source-Age: 0\n",
      "\n",
      " at: artifacts/data_ingestion/data.zip\n"
     ]
    }
   ],
   "source": [
    "try:\n",
    "    config = Configuration_Manager()\n",
    "    data_ingestion_config = config.get_data_ingestion_config()\n",
    "    data_ingestion = Data_Ingestion(config=data_ingestion_config)\n",
    "    data_ingestion.download_data()\n",
    "    data_ingestion.extract_zip_data()\n",
    "except Exception as e:\n",
    "    raise e"
   ]
  },
  {
   "cell_type": "code",
   "execution_count": null,
   "metadata": {},
   "outputs": [],
   "source": []
  }
 ],
 "metadata": {
  "kernelspec": {
   "display_name": "venv",
   "language": "python",
   "name": "python3"
  },
  "language_info": {
   "codemirror_mode": {
    "name": "ipython",
    "version": 3
   },
   "file_extension": ".py",
   "mimetype": "text/x-python",
   "name": "python",
   "nbconvert_exporter": "python",
   "pygments_lexer": "ipython3",
   "version": "3.8.18"
  }
 },
 "nbformat": 4,
 "nbformat_minor": 2
}
