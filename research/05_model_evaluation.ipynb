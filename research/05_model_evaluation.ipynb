{
 "cells": [
  {
   "cell_type": "code",
   "execution_count": 2,
   "metadata": {},
   "outputs": [],
   "source": [
    "import pandas as pd\n",
    "import numpy as np\n",
    "import os"
   ]
  },
  {
   "cell_type": "code",
   "execution_count": 3,
   "metadata": {},
   "outputs": [],
   "source": [
    "os.chdir('../')"
   ]
  },
  {
   "cell_type": "code",
   "execution_count": 4,
   "metadata": {},
   "outputs": [],
   "source": [
    "os.environ[\"MLFLOW_TRACKING_URI\"]=\"https://dagshub.com/CC-KEH/Heart-Attack-Prediction.mlflow\"\n",
    "os.environ[\"MLFLOW_TRACKING_USERNAME\"]=\"CC-KEH\"\n",
    "os.environ[\"MLFLOW_TRACKING_PASSWORD\"]=\"b0ca75eb844047a323c32834ca8cc3c7bf97c61e\""
   ]
  },
  {
   "cell_type": "code",
   "execution_count": 14,
   "metadata": {},
   "outputs": [],
   "source": [
    "from dataclasses import dataclass\n",
    "from pathlib import Path\n",
    "\n",
    "@dataclass(frozen=True)\n",
    "class Model_Evaluation_Config:\n",
    "    root_dir: Path\n",
    "    test_data_path: Path\n",
    "    model_path: Path\n",
    "    all_params: dict\n",
    "    metric_file_name: Path\n",
    "    target_column: str\n",
    "    mlflow_uri: str"
   ]
  },
  {
   "cell_type": "code",
   "execution_count": 15,
   "metadata": {},
   "outputs": [],
   "source": [
    "from src.Project4.utils.common import logger,read_yaml,create_directories\n",
    "from src.Project4.constants import *\n",
    "\n",
    "class Configuration_Manager:\n",
    "    def __init__(self,config_file_path=CONFIG_FILE_PATH,schema_file_path=SCHEMA_FILE_PATH,params_file_path=PARAMS_FILE_PATH):\n",
    "        self.config = read_yaml(config_file_path)\n",
    "        self.schema = read_yaml(schema_file_path)\n",
    "        self.params = read_yaml(params_file_path)\n",
    "        \n",
    "        create_directories([self.config.artifacts_root])\n",
    "        \n",
    "    def get_model_evaluation_config(self)->Model_Evaluation_Config:\n",
    "        config = self.config.model_evaluation\n",
    "        schema = self.schema.TARGET_COLUMN\n",
    "        params = self.params #! Fix the issue of params\n",
    "        \n",
    "        create_directories([config.root_dir])\n",
    "        \n",
    "        model_evaluation_config = Model_Evaluation_Config(root_dir=config.root_dir,\n",
    "                                                          test_data_path=config.test_data_path,\n",
    "                                                          model_path=config.model_path,\n",
    "                                                          all_params=params,\n",
    "                                                          metric_file_name=config.metric_file_name,\n",
    "                                                          mlflow_uri=\"https://dagshub.com/CC-KEH/Heart-Attack-Prediction.mlflow\",\n",
    "                                                          target_column=schema.name)\n",
    "        return model_evaluation_config"
   ]
  },
  {
   "cell_type": "code",
   "execution_count": 16,
   "metadata": {},
   "outputs": [],
   "source": [
    "from sklearn.metrics import accuracy_score,mean_squared_error\n",
    "from urllib.parse import urlparse\n",
    "import mlflow\n",
    "import mlflow.sklearn\n",
    "import joblib"
   ]
  },
  {
   "cell_type": "code",
   "execution_count": 17,
   "metadata": {},
   "outputs": [],
   "source": [
    "from src.Project4.utils.common import save_json\n",
    "class Model_Evaluation:\n",
    "    def __init__(self,config:Model_Evaluation_Config):\n",
    "        self.config = config\n",
    "    \n",
    "    def evaluate_metrics(self,actual,pred):\n",
    "        accuracy = accuracy_score(actual,pred)\n",
    "        mse = mean_squared_error(actual,pred)\n",
    "        return accuracy,mse\n",
    "\n",
    "    def log_into_mlflow(self):\n",
    "        test_data = pd.read_csv(self.config.test_data_path)\n",
    "        model = joblib.load(self.config.model_path)\n",
    "        X_test = test_data.drop([self.config.target_column],axis=1)\n",
    "        y_test  = test_data[[self.config.target_column]]\n",
    "        \n",
    "        mlflow.set_registry_uri(self.config.mlflow_uri)\n",
    "        tracking_url_type_store = urlparse(mlflow.get_tracking_uri()).scheme\n",
    "        \n",
    "        with mlflow.start_run():\n",
    "            predictions = model.predict(X_test)\n",
    "            (accuracy,mse) = self.evaluate_metrics(y_test,predictions)\n",
    "            \n",
    "            # Save Metrics as local\n",
    "            \n",
    "            scores = {\"Accuracy\": accuracy,\"Mean Squared Error\": mse}\n",
    "            save_json(path=Path(self.config.metric_file_name),data=scores)\n",
    "            mlflow.log_params(self.config.all_params)\n",
    "            mlflow.log_metric(\"Accuracy\",accuracy)\n",
    "            mlflow.log_metric(\"Mean Squared Error\",mse)\n",
    "            \n",
    "            # Model registry does not work with file store\n",
    "            if tracking_url_type_store !='file':\n",
    "                mlflow.sklearn.log_model(model,\"model\",registered_model_name=\"Best Model\")\n",
    "            else:\n",
    "                mlflow.sklearn.load_model(model,'model')\n",
    "            \n",
    "        "
   ]
  },
  {
   "cell_type": "code",
   "execution_count": 18,
   "metadata": {},
   "outputs": [
    {
     "name": "stdout",
     "output_type": "stream",
     "text": [
      "2024-02-28 14:09:23,590 - src_logger - INFO - Yaml file:config\\config.yaml loaded successfully\n",
      "2024-02-28 14:09:23,594 - src_logger - INFO - Yaml file:schema.yaml loaded successfully\n",
      "2024-02-28 14:09:23,600 - src_logger - INFO - Yaml file:params.yaml loaded successfully\n",
      "2024-02-28 14:09:23,602 - src_logger - INFO - Created directory at: artifacts\n",
      "2024-02-28 14:09:23,603 - src_logger - INFO - Created directory at: artifacts/model_evaluation\n",
      "2024-02-28 14:09:24,225 - src_logger - INFO - Json file saved at: artifacts\\model_evaluation\\metrics.json\n"
     ]
    },
    {
     "name": "stderr",
     "output_type": "stream",
     "text": [
      "c:\\Users\\arbas\\anaconda3\\envs\\venv\\lib\\site-packages\\sklearn\\base.py:458: UserWarning: X has feature names, but KNeighborsClassifier was fitted without feature names\n",
      "  warnings.warn(\n",
      "Registered model 'Best Model' already exists. Creating a new version of this model...\n",
      "2024/02/28 14:09:34 INFO mlflow.tracking._model_registry.client: Waiting up to 300 seconds for model version to finish creation.                     Model name: Best Model, version 2\n",
      "Created version '2' of model 'Best Model'.\n"
     ]
    }
   ],
   "source": [
    "try:\n",
    "    config = Configuration_Manager()\n",
    "    model_evaluation_config = config.get_model_evaluation_config()\n",
    "    model_evaluation = Model_Evaluation(config=model_evaluation_config)\n",
    "    model_evaluation.log_into_mlflow()\n",
    "    \n",
    "except Exception as e:\n",
    "    raise e"
   ]
  },
  {
   "cell_type": "code",
   "execution_count": null,
   "metadata": {},
   "outputs": [],
   "source": []
  }
 ],
 "metadata": {
  "kernelspec": {
   "display_name": "venv",
   "language": "python",
   "name": "python3"
  },
  "language_info": {
   "codemirror_mode": {
    "name": "ipython",
    "version": 3
   },
   "file_extension": ".py",
   "mimetype": "text/x-python",
   "name": "python",
   "nbconvert_exporter": "python",
   "pygments_lexer": "ipython3",
   "version": "3.8.18"
  }
 },
 "nbformat": 4,
 "nbformat_minor": 2
}
